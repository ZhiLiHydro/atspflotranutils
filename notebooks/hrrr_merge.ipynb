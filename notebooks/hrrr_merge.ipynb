{
 "cells": [
  {
   "cell_type": "code",
   "execution_count": 1,
   "id": "4eebe6bc-d6c8-4d8a-87d1-9cc61d89ff9f",
   "metadata": {},
   "outputs": [],
   "source": [
    "import os\n",
    "import sys\n",
    "import numpy as np\n",
    "import pandas as pd\n",
    "import matplotlib.pyplot as plt\n",
    "import h5py"
   ]
  },
  {
   "cell_type": "code",
   "execution_count": 2,
   "id": "0c23229e-ee29-48f3-9569-e97904cdf5c8",
   "metadata": {
    "tags": []
   },
   "outputs": [],
   "source": [
    "def read_daymet_h5(filename):\n",
    "    data = {}\n",
    "    with h5py.File(filename, 'r') as f:\n",
    "        for k, v in f.items():\n",
    "            try:\n",
    "                data[k] = v[:]\n",
    "            except TypeError:\n",
    "                data_t = {}\n",
    "                for tk, tv in v.items():\n",
    "                    data_t[tk] = tv[:]\n",
    "                data[k] = data_t\n",
    "    return data"
   ]
  },
  {
   "cell_type": "code",
   "execution_count": 3,
   "id": "1ccba2a7-4387-4eb3-aed0-cbc951010617",
   "metadata": {
    "tags": []
   },
   "outputs": [],
   "source": [
    "def write_daymet_h5(filename, data):\n",
    "    with h5py.File(filename, 'w') as f:\n",
    "        for k, v in data.items():\n",
    "            try:\n",
    "                f.create_dataset(k, data=v)\n",
    "            except TypeError:\n",
    "                g = f.create_group(k)\n",
    "                for tk, tv in v.items():\n",
    "                    g.create_dataset(tk, data=tv)"
   ]
  },
  {
   "cell_type": "code",
   "execution_count": 4,
   "id": "4e764754-5c74-406d-aa09-40ab3967a307",
   "metadata": {
    "tags": []
   },
   "outputs": [],
   "source": [
    "def check_keys(data):\n",
    "    keys = data.keys()\n",
    "    for key in keys:\n",
    "        print(key, type(data[key]))\n",
    "        if isinstance(data[key], dict):\n",
    "            _keys = data[key].keys()\n",
    "            last = np.array(sorted(np.array(list(_keys), dtype=int)))[-1]\n",
    "            print('\\t', last, ':', data[key][str(last)].shape, type(data[key][str(last)]))\n",
    "    return last"
   ]
  },
  {
   "cell_type": "code",
   "execution_count": 5,
   "id": "be835d93-7fd1-4ec3-aded-a4fab971db55",
   "metadata": {
    "tags": []
   },
   "outputs": [],
   "source": [
    "def _last(data):\n",
    "    return np.array(sorted(np.array(list(data[list(data.keys())[0]].keys()), dtype=int)))[-1]"
   ]
  },
  {
   "cell_type": "code",
   "execution_count": 6,
   "id": "b881b8ed-86de-4e3e-a49d-e9d171c8558b",
   "metadata": {},
   "outputs": [],
   "source": [
    "domain = 'Yakima'"
   ]
  },
  {
   "cell_type": "code",
   "execution_count": 7,
   "id": "6f51c9a6-02cf-4f61-a237-958236805403",
   "metadata": {
    "tags": []
   },
   "outputs": [],
   "source": [
    "years = np.arange(2024, 2025)"
   ]
  },
  {
   "cell_type": "code",
   "execution_count": 8,
   "id": "58865f64-8bed-47e7-bb1a-919fcdce9b87",
   "metadata": {
    "tags": []
   },
   "outputs": [],
   "source": [
    "month = 10 # 12"
   ]
  },
  {
   "cell_type": "code",
   "execution_count": 9,
   "id": "68f7435b-df05-4bc7-b656-1c782d3c4344",
   "metadata": {
    "tags": []
   },
   "outputs": [],
   "source": [
    "number_of_days = {1:31, 2:28, 3:31, 4:30, 5:31, 6:30, 7:31, 8:31, 9:30, 10:31, 11:30, 12:31}"
   ]
  },
  {
   "cell_type": "code",
   "execution_count": 10,
   "id": "249a2ed8-3b61-41dc-9512-604f8cbd4ce2",
   "metadata": {
    "tags": []
   },
   "outputs": [
    {
     "data": {
      "text/plain": [
       "['./h5/hrrr_202410_31d.h5']"
      ]
     },
     "execution_count": 10,
     "metadata": {},
     "output_type": "execute_result"
    }
   ],
   "source": [
    "flist = [f'./h5/hrrr_{year}{str(month).zfill(2)}_{number_of_days[month]}d.h5' for year in years]\n",
    "flist"
   ]
  },
  {
   "cell_type": "code",
   "execution_count": 11,
   "id": "3d880e36-ca41-4b2a-add1-106efff1b802",
   "metadata": {
    "tags": []
   },
   "outputs": [
    {
     "name": "stdout",
     "output_type": "stream",
     "text": [
      "air temperature [K] <class 'dict'>\n",
      "\t 7295 : (71, 58) <class 'numpy.ndarray'>\n",
      "incoming shortwave radiation [W m^-2] <class 'dict'>\n",
      "\t 7295 : (71, 58) <class 'numpy.ndarray'>\n",
      "precipitation rain [m s^-1] <class 'dict'>\n",
      "\t 7295 : (71, 58) <class 'numpy.ndarray'>\n",
      "precipitation snow [m SWE s^-1] <class 'dict'>\n",
      "\t 7295 : (71, 58) <class 'numpy.ndarray'>\n",
      "vapor pressure air [Pa] <class 'dict'>\n",
      "\t 7295 : (71, 58) <class 'numpy.ndarray'>\n"
     ]
    },
    {
     "data": {
      "text/plain": [
       "7295"
      ]
     },
     "execution_count": 11,
     "metadata": {},
     "output_type": "execute_result"
    }
   ],
   "source": [
    "data = read_daymet_h5(flist[0])\n",
    "last = check_keys(data)\n",
    "last"
   ]
  },
  {
   "cell_type": "code",
   "execution_count": 12,
   "id": "da9694dc-a12e-4fdb-a60d-c9cced8f4220",
   "metadata": {
    "tags": []
   },
   "outputs": [],
   "source": [
    "for f in flist[1:]:\n",
    "    last = _last(data)\n",
    "    _data = read_daymet_h5(f)\n",
    "    for key in data.keys():\n",
    "        for _key in _data[key].keys():\n",
    "            data[key][str(int(_key)+last+1)] = _data[key][_key]\n",
    "    print(f, _last(data))"
   ]
  },
  {
   "cell_type": "code",
   "execution_count": 13,
   "id": "e750c693-84e7-4ecb-9170-abb7153c8e06",
   "metadata": {
    "tags": []
   },
   "outputs": [
    {
     "name": "stdout",
     "output_type": "stream",
     "text": [
      "air temperature [K] <class 'dict'>\n",
      "\t 7295 : (71, 58) <class 'numpy.ndarray'>\n",
      "incoming shortwave radiation [W m^-2] <class 'dict'>\n",
      "\t 7295 : (71, 58) <class 'numpy.ndarray'>\n",
      "precipitation rain [m s^-1] <class 'dict'>\n",
      "\t 7295 : (71, 58) <class 'numpy.ndarray'>\n",
      "precipitation snow [m SWE s^-1] <class 'dict'>\n",
      "\t 7295 : (71, 58) <class 'numpy.ndarray'>\n",
      "vapor pressure air [Pa] <class 'dict'>\n",
      "\t 7295 : (71, 58) <class 'numpy.ndarray'>\n"
     ]
    },
    {
     "data": {
      "text/plain": [
       "7295"
      ]
     },
     "execution_count": 13,
     "metadata": {},
     "output_type": "execute_result"
    }
   ],
   "source": [
    "last = check_keys(data)\n",
    "last"
   ]
  },
  {
   "cell_type": "code",
   "execution_count": 14,
   "id": "89dde231-9712-41a1-8295-f00663442cdb",
   "metadata": {
    "tags": []
   },
   "outputs": [],
   "source": [
    "raster_shape = (71, 58) # yrb (71, 58) # mkz (29, 40)\n",
    "xyz_daymet = np.loadtxt('./xyz_csv/yrb/xyz_daymet.xyz')\n",
    "x_daymet, y_daymet = xyz_daymet[:, 0].reshape(raster_shape), xyz_daymet[:, 1].reshape(raster_shape)\n",
    "xv, yv = np.meshgrid(np.linspace(x_daymet.min(), x_daymet.max(), raster_shape[1]), np.linspace(y_daymet.min(), y_daymet.max(), raster_shape[0]))\n",
    "data[\"x [m]\"], data[\"y [m]\"] = xv[0, :], yv[:, 0]"
   ]
  },
  {
   "cell_type": "code",
   "execution_count": 15,
   "id": "a2e4750d-9fa8-48ea-a2a0-c4ee7534311c",
   "metadata": {
    "tags": []
   },
   "outputs": [
    {
     "data": {
      "text/plain": [
       "8760"
      ]
     },
     "execution_count": 15,
     "metadata": {},
     "output_type": "execute_result"
    }
   ],
   "source": [
    "(years[-1]-years[0]+1)*365*24"
   ]
  },
  {
   "cell_type": "code",
   "execution_count": 16,
   "id": "0827c545-2030-40b4-adb7-f7d300d458f7",
   "metadata": {
    "tags": []
   },
   "outputs": [],
   "source": [
    "data[\"time [s]\"] = np.arange((years[-1]-years[0]+1)*365*24)*3600 + (years[0]-1980)*365*86400"
   ]
  },
  {
   "cell_type": "code",
   "execution_count": 17,
   "id": "f8ffc1a8-1cdb-44a4-8b56-96520bb7559b",
   "metadata": {
    "tags": []
   },
   "outputs": [],
   "source": [
    "write_daymet_h5(f'./{domain}_HRRR_{years[0]}_{years[-1]}.h5', data)"
   ]
  },
  {
   "cell_type": "code",
   "execution_count": null,
   "id": "0436d009-5d34-4672-83cb-d89626688710",
   "metadata": {},
   "outputs": [],
   "source": []
  }
 ],
 "metadata": {
  "kernelspec": {
   "display_name": "atsww",
   "language": "python",
   "name": "atsww"
  },
  "language_info": {
   "codemirror_mode": {
    "name": "ipython",
    "version": 3
   },
   "file_extension": ".py",
   "mimetype": "text/x-python",
   "name": "python",
   "nbconvert_exporter": "python",
   "pygments_lexer": "ipython3",
   "version": "3.10.8"
  }
 },
 "nbformat": 4,
 "nbformat_minor": 5
}
