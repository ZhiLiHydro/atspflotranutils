{
 "cells": [
  {
   "cell_type": "code",
   "execution_count": null,
   "id": "3162ffef-182a-426b-96f1-b161d1b1f4c8",
   "metadata": {},
   "outputs": [],
   "source": [
    "import numpy as np\n",
    "import matplotlib.pyplot as plt\n",
    "import pandas as pd\n",
    "import glob\n",
    "import sys\n",
    "import os"
   ]
  },
  {
   "cell_type": "code",
   "execution_count": null,
   "id": "89c4a938-4853-4a9b-b9e8-02472cdf0c87",
   "metadata": {},
   "outputs": [],
   "source": [
    "plt.style.use('ggplot')\n",
    "plt.rcParams['figure.dpi'] = 150\n",
    "plt.rcParams['lines.linewidth'] = 1\n",
    "plt.rcParams['legend.fontsize'] = 6\n",
    "plt.rcParams['axes.titlesize'] = 7\n",
    "plt.rcParams['axes.labelsize'] = 8\n",
    "plt.rcParams['xtick.labelsize'] = 8\n",
    "plt.rcParams['ytick.labelsize'] = 8"
   ]
  },
  {
   "cell_type": "code",
   "execution_count": null,
   "id": "15d40ccd-c2b4-466a-9a84-f74e57bef30e",
   "metadata": {
    "tags": []
   },
   "outputs": [],
   "source": [
    "plot_water_balance = True\n",
    "scratch_path = os.environ.get('SCRATCH')"
   ]
  },
  {
   "cell_type": "code",
   "execution_count": null,
   "id": "5766b16a-e201-48dd-8fb2-e8a7f6a68f46",
   "metadata": {
    "tags": []
   },
   "outputs": [],
   "source": [
    "cases = ['', '']\n",
    "cases"
   ]
  },
  {
   "cell_type": "code",
   "execution_count": null,
   "id": "91da5586-fc30-4cb0-b152-125376f470d8",
   "metadata": {},
   "outputs": [],
   "source": [
    "for i, case in enumerate(cases):\n",
    "    df = pd.read_csv(f'{case}/pflotran_surface_total_concentration.csv', comment='#').merge(pd.read_csv(f'{case}/pflotran_subsurface_total_concentration.csv', comment='#'))\n",
    "    if plot_water_balance:\n",
    "        w = pd.read_csv(f'{case}/water_balance_computational_domain.csv', comment='#')\n",
    "    if i == 0:\n",
    "        print(df.columns)\n",
    "        if plot_water_balance:\n",
    "            print(w.columns)\n",
    "    print('start =', df.iloc[0, 0]/86400, 'end =', df.iloc[-1, 0]/86400, 'nrow =', len(df), 'ncol =', len(df.columns))\n",
    "    if i == 0:\n",
    "        t0a = df.iloc[0, 0]\n",
    "        if plot_water_balance:\n",
    "            t0b = w.iloc[0, 0]\n",
    "        fig, axs = plt.subplots(len(df.columns)//4+1, 4, figsize=(12,9), sharex=True)\n",
    "    df.iloc[:, 0] -= t0a\n",
    "    df.iloc[:, 0] /= 86400\n",
    "    df.iloc[0, 1:] = df.iloc[1, 1:]\n",
    "    df.rename(columns={\"time [s]\": \"time [d]\"}, inplace=True)\n",
    "    if plot_water_balance:\n",
    "        w.iloc[:, 0] -= t0b\n",
    "        # w.iloc[:, 0] /= 365\n",
    "        w.iloc[0, 1:] = w.iloc[1, 1:]\n",
    "    for j, ax in enumerate(axs.flat):\n",
    "        if j > len(df.columns):\n",
    "            break\n",
    "        if plot_water_balance:\n",
    "            if j == len(df.columns) - 1:\n",
    "                ax.plot(w.iloc[:,0], w.iloc[:,4]*1000, color='k')\n",
    "                ax.set_title('rain [mm]', fontweight='bold')\n",
    "            elif j == len(df.columns):\n",
    "                ax.plot(w.iloc[:,0], w.iloc[:,5]*1000, color='k')\n",
    "                ax.plot(w.iloc[:,0], w.iloc[:,9]*1000, color='k', ls='--', label='snowmelt')\n",
    "                ax.set_title('snow [mm]', fontweight='bold')\n",
    "                if i == 0:\n",
    "                    ax.legend(loc='upper left')\n",
    "            else:\n",
    "                ax.semilogy(df.iloc[:, 0], df.iloc[:, j+1]*55000, label=df.columns[j+1]) # plot semilogy\n",
    "                # if i != len(sys.argv)-2:\n",
    "                     # ax.scatter(df.iloc[-1, 0], df.iloc[-1, j+1], color='k', s=3)\n",
    "                ax.set_title(str(df.columns[j+1]), fontweight='bold')\n",
    "            ax.grid(which='both', axis='both', linestyle='--', linewidth=0.5)\n",
    "            if j > len(axs.flat)-5:\n",
    "                ax.set_xlabel(df.columns[0])\n",
    "        else:\n",
    "            ax.plot(df.iloc[:, 0], df.iloc[:, j+1], label=df.columns[j+1])\n",
    "            ax.set_title(str(df.columns[j+1]), fontweight='bold')\n",
    "plt.tight_layout()\n",
    "print()\n",
    "plt.show()"
   ]
  },
  {
   "cell_type": "code",
   "execution_count": null,
   "id": "bb1e0b63-2559-493a-9e3c-34a9d7ebfc88",
   "metadata": {},
   "outputs": [],
   "source": []
  }
 ],
 "metadata": {
  "kernelspec": {
   "display_name": "atsww",
   "language": "python",
   "name": "atsww"
  },
  "language_info": {
   "codemirror_mode": {
    "name": "ipython",
    "version": 3
   },
   "file_extension": ".py",
   "mimetype": "text/x-python",
   "name": "python",
   "nbconvert_exporter": "python",
   "pygments_lexer": "ipython3",
   "version": "3.10.8"
  }
 },
 "nbformat": 4,
 "nbformat_minor": 5
}
